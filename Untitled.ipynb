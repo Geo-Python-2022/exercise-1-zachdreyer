{
 "cells": [
  {
   "cell_type": "code",
   "execution_count": 1,
   "id": "fd90a8cc-dd87-4ac0-b038-572b128903f2",
   "metadata": {},
   "outputs": [],
   "source": [
    "ice_cream_rating=7\n",
    "sleep_rating=9\n"
   ]
  },
  {
   "cell_type": "code",
   "execution_count": 2,
   "id": "37a76434-4edc-4dd4-9ec1-a4b62e3c0d3b",
   "metadata": {},
   "outputs": [
    {
     "name": "stdin",
     "output_type": "stream",
     "text": [
      "firstname? Zeke\n",
      " Dreuer\n"
     ]
    }
   ],
   "source": [
    "first=input(\"firstname?\")\n",
    "last=input()\n",
    "my_name=first+\" \"+last"
   ]
  },
  {
   "cell_type": "code",
   "execution_count": 3,
   "id": "eb289875-237f-416d-a44f-e4078fddb30e",
   "metadata": {},
   "outputs": [
    {
     "name": "stdout",
     "output_type": "stream",
     "text": [
      "Zeke Dreuer\n"
     ]
    }
   ],
   "source": [
    "print(my_name)"
   ]
  },
  {
   "cell_type": "code",
   "execution_count": 4,
   "id": "897a36d1-5c17-4857-911a-77821b4b90a3",
   "metadata": {},
   "outputs": [],
   "source": [
    "happiness_rating=(ice_cream_rating + sleep_rating)/2"
   ]
  },
  {
   "cell_type": "code",
   "execution_count": 5,
   "id": "0a6b8f47-6473-4355-8ef3-93464bddaa6c",
   "metadata": {},
   "outputs": [
    {
     "name": "stdout",
     "output_type": "stream",
     "text": [
      "8.0\n"
     ]
    }
   ],
   "source": [
    "print(happiness_rating)"
   ]
  },
  {
   "cell_type": "markdown",
   "id": "ede4ae29-7f5c-4f90-a1e0-9e8ce1a68e5e",
   "metadata": {},
   "source": [
    "type(first)"
   ]
  },
  {
   "cell_type": "markdown",
   "id": "6f77b113-9082-4021-a86d-165b1ec58ea3",
   "metadata": {},
   "source": [
    "type(ice_cream_rating)"
   ]
  },
  {
   "cell_type": "markdown",
   "id": "10f28c87-c4bb-4cef-90cb-c630eb91447d",
   "metadata": {},
   "source": [
    "type(happiness_rating)"
   ]
  },
  {
   "cell_type": "code",
   "execution_count": 9,
   "id": "327f9a09-3f17-4526-b1fd-1f5e14151579",
   "metadata": {},
   "outputs": [
    {
     "name": "stdout",
     "output_type": "stream",
     "text": [
      "My name is  Zeke Dreuer  and I give eating ice cream a score of  7 out of 10!\n"
     ]
    }
   ],
   "source": [
    "print(\"My name is \",my_name,\" and I give eating ice cream a score of \", ice_cream_rating, \"out of 10!\")"
   ]
  },
  {
   "cell_type": "code",
   "execution_count": null,
   "id": "683da388-f842-444d-a623-1e68b722a64e",
   "metadata": {},
   "outputs": [],
   "source": []
  }
 ],
 "metadata": {
  "kernelspec": {
   "display_name": "Python 3 (ipykernel)",
   "language": "python",
   "name": "python3"
  },
  "language_info": {
   "codemirror_mode": {
    "name": "ipython",
    "version": 3
   },
   "file_extension": ".py",
   "mimetype": "text/x-python",
   "name": "python",
   "nbconvert_exporter": "python",
   "pygments_lexer": "ipython3",
   "version": "3.7.12"
  }
 },
 "nbformat": 4,
 "nbformat_minor": 5
}
